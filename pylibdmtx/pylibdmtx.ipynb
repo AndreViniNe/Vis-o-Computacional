{
 "cells": [
  {
   "cell_type": "markdown",
   "metadata": {},
   "source": [
    "# Estudos com a biblioteca *pylibdmtx* para leitura de Data Matrixes"
   ]
  },
  {
   "cell_type": "markdown",
   "metadata": {},
   "source": [
    "### Importação das bibliotecas (para alguns comandos, é necessário a biblioteca *PilloW > 3.2.0*)"
   ]
  },
  {
   "cell_type": "code",
   "execution_count": 13,
   "metadata": {},
   "outputs": [],
   "source": [
    "from pylibdmtx.pylibdmtx import decode, encode\n",
    "from PIL import Image\n",
    "import cv2"
   ]
  },
  {
   "cell_type": "markdown",
   "metadata": {},
   "source": [
    "A função *decode* aceita o carregamento de imagens pela biblioteca *PIL* com a função *Image*, ou pela biblioteca *OpenCV* com a função *cv2.imread()*"
   ]
  },
  {
   "cell_type": "code",
   "execution_count": 5,
   "metadata": {},
   "outputs": [
    {
     "data": {
      "text/plain": [
       "[Decoded(data=b'ABCDabcd', rect=Rect(left=82, top=9, width=282, height=282))]"
      ]
     },
     "execution_count": 5,
     "metadata": {},
     "output_type": "execute_result"
    }
   ],
   "source": [
    "imagem_PIL = Image.open(r'C:\\Users\\Flavinho\\Desktop\\visao-computacional\\pylibdmtx\\DataMatrix.jpg')\n",
    "decode(imagem_PIL)"
   ]
  },
  {
   "cell_type": "code",
   "execution_count": 11,
   "metadata": {},
   "outputs": [
    {
     "data": {
      "text/plain": [
       "[Decoded(data=b'ABCDabcd', rect=Rect(left=82, top=9, width=282, height=282))]"
      ]
     },
     "execution_count": 11,
     "metadata": {},
     "output_type": "execute_result"
    }
   ],
   "source": [
    "imagem_CV = cv2.imread(r'C:\\Users\\Flavinho\\Desktop\\visao-computacional\\pylibdmtx\\DataMatrix.jpg')\n",
    "decode(imagem_CV)"
   ]
  },
  {
   "cell_type": "markdown",
   "metadata": {},
   "source": [
    "A função *encode* permite a geração de uma imagem que contém um Data Matrix"
   ]
  },
  {
   "cell_type": "code",
   "execution_count": 14,
   "metadata": {},
   "outputs": [],
   "source": [
    "encoded = encode('hello world'.encode('utf8'))\n",
    "img = Image.frombytes('RGB', (encoded.width, encoded.height), encoded.pixels)\n",
    "img.save('dmtx.png')"
   ]
  },
  {
   "cell_type": "markdown",
   "metadata": {},
   "source": [
    "Podemos usar as funções de *OpenCV* para verificar a nova imagem, e podemos usar *decode* para ler o Data Matrix"
   ]
  },
  {
   "cell_type": "code",
   "execution_count": 20,
   "metadata": {},
   "outputs": [],
   "source": [
    "img = cv2.imread(r'C:\\Users\\Flavinho\\Desktop\\visao-computacional\\pylibdmtx\\dmtx.png')\n",
    "\n",
    "cv2.imshow('Imagem gerada', img)\n",
    "cv2.waitKey(0)\n",
    "cv2.destroyAllWindows()"
   ]
  },
  {
   "cell_type": "code",
   "execution_count": 19,
   "metadata": {},
   "outputs": [
    {
     "data": {
      "text/plain": [
       "[Decoded(data=b'hello world', rect=Rect(left=9, top=10, width=80, height=79))]"
      ]
     },
     "execution_count": 19,
     "metadata": {},
     "output_type": "execute_result"
    }
   ],
   "source": [
    "decode(img)"
   ]
  },
  {
   "cell_type": "markdown",
   "metadata": {},
   "source": [
    "Podemos transformar o valor que está dentro do Data Matrix em uma string acessando seu .data"
   ]
  },
  {
   "cell_type": "code",
   "execution_count": 37,
   "metadata": {},
   "outputs": [
    {
     "name": "stdout",
     "output_type": "stream",
     "text": [
      "b'hello world'\n"
     ]
    }
   ],
   "source": [
    "decoded = decode(img)\n",
    "string = str(decoded[0][0])\n",
    "print(string)"
   ]
  }
 ],
 "metadata": {
  "kernelspec": {
   "display_name": "visao-computacional",
   "language": "python",
   "name": "python3"
  },
  "language_info": {
   "codemirror_mode": {
    "name": "ipython",
    "version": 3
   },
   "file_extension": ".py",
   "mimetype": "text/x-python",
   "name": "python",
   "nbconvert_exporter": "python",
   "pygments_lexer": "ipython3",
   "version": "3.10.14"
  }
 },
 "nbformat": 4,
 "nbformat_minor": 2
}
