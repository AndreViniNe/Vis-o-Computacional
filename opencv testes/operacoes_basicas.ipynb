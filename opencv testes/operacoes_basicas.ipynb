{
 "cells": [
  {
   "cell_type": "markdown",
   "metadata": {},
   "source": [
    "Agora, já sabendo como carregar, mostrar e salvar uma imagem, entraremos nas oeprações básicas que podemos fazer nela.  \n",
    "### Acessando e modificando valores de pixels  "
   ]
  },
  {
   "cell_type": "code",
   "execution_count": 1,
   "metadata": {},
   "outputs": [],
   "source": [
    "import cv2\n",
    "import numpy as np\n",
    "import matplotlib.pyplot as plt"
   ]
  },
  {
   "cell_type": "code",
   "execution_count": 27,
   "metadata": {},
   "outputs": [],
   "source": [
    "img = cv2.imread(r'C:\\Users\\Flavinho\\Desktop\\visao-computacional\\opencv testes\\messi5.jpg')"
   ]
  },
  {
   "cell_type": "markdown",
   "metadata": {},
   "source": [
    "É possível acessar os valores das cores do pixel pelas suas coordenadas na imagem. Para uma imagem BGR (que é o caso ao carregar a imagem com cv2), retorna um array de valores azul, verde e vermelho. Para imagens em escala cinza, somente é retornada a intensidade"
   ]
  },
  {
   "cell_type": "code",
   "execution_count": 28,
   "metadata": {},
   "outputs": [
    {
     "name": "stdout",
     "output_type": "stream",
     "text": [
      "[156 166 200]\n"
     ]
    }
   ],
   "source": [
    "px = img[100,100]\n",
    "print(px)"
   ]
  },
  {
   "cell_type": "code",
   "execution_count": 29,
   "metadata": {},
   "outputs": [
    {
     "name": "stdout",
     "output_type": "stream",
     "text": [
      "156\n"
     ]
    }
   ],
   "source": [
    "#acessando somente o pixel azul\n",
    "azul = img[100,100,0]\n",
    "print(azul)"
   ]
  },
  {
   "cell_type": "markdown",
   "metadata": {},
   "source": [
    "Também é possível mudar os valores de um determinado pixel"
   ]
  },
  {
   "cell_type": "code",
   "execution_count": 30,
   "metadata": {},
   "outputs": [
    {
     "name": "stdout",
     "output_type": "stream",
     "text": [
      "[255 255 255]\n"
     ]
    }
   ],
   "source": [
    "img[100, 100] = [255,255,255]\n",
    "print(img[100,100])"
   ]
  },
  {
   "cell_type": "markdown",
   "metadata": {},
   "source": [
    "Com a biblioteca *Numpy*, fica mais fácil acessar e modificar os valores dos pixels, com as funções *array.item()* e *array.itemset()*.  "
   ]
  },
  {
   "cell_type": "code",
   "execution_count": 31,
   "metadata": {},
   "outputs": [
    {
     "name": "stdout",
     "output_type": "stream",
     "text": [
      "59\n"
     ]
    },
    {
     "data": {
      "text/plain": [
       "100"
      ]
     },
     "execution_count": 31,
     "metadata": {},
     "output_type": "execute_result"
    }
   ],
   "source": [
    "#acessando o valor vermelho\n",
    "print(img.item(10,10,2)) #59\n",
    "\n",
    "#modificando o valor vermelho\n",
    "img.itemset((10,10,2), 100)\n",
    "img.item(10,10,2) #100"
   ]
  },
  {
   "cell_type": "markdown",
   "metadata": {},
   "source": [
    "### Funções para acessar propriedades das imagens: *img.shape*, *img.size* *img.dtype*"
   ]
  },
  {
   "cell_type": "code",
   "execution_count": 32,
   "metadata": {},
   "outputs": [
    {
     "data": {
      "text/plain": [
       "(342, 548, 3)"
      ]
     },
     "execution_count": 32,
     "metadata": {},
     "output_type": "execute_result"
    }
   ],
   "source": [
    "#linhas, colunas e canais(se tiver cor, se for em escala cinza terá somente linha e coluna)\n",
    "img.shape"
   ]
  },
  {
   "cell_type": "code",
   "execution_count": 33,
   "metadata": {},
   "outputs": [
    {
     "data": {
      "text/plain": [
       "562248"
      ]
     },
     "execution_count": 33,
     "metadata": {},
     "output_type": "execute_result"
    }
   ],
   "source": [
    "#quantidade de pixels\n",
    "img.size"
   ]
  },
  {
   "cell_type": "code",
   "execution_count": 34,
   "metadata": {},
   "outputs": [
    {
     "data": {
      "text/plain": [
       "dtype('uint8')"
      ]
     },
     "execution_count": 34,
     "metadata": {},
     "output_type": "execute_result"
    }
   ],
   "source": [
    "#datatype da imagem\n",
    "img.dtype"
   ]
  },
  {
   "cell_type": "markdown",
   "metadata": {},
   "source": [
    "### ROI da imagem   \n",
    "Determinar uma área/região da imagem que pode ser substituída em outra parte da imagem. Muito usado para detecção de olhos em imagens, detectando primeiro uma face, depois o olho dentro da face."
   ]
  },
  {
   "cell_type": "code",
   "execution_count": 35,
   "metadata": {},
   "outputs": [],
   "source": [
    "ball = img[280:340, 330:390]\n",
    "img[273:333, 100:160] = ball\n",
    "\n",
    "cv2.imshow('messi', img)\n",
    "cv2.waitKey(0)\n",
    "cv2.destroyAllWindows()"
   ]
  },
  {
   "cell_type": "markdown",
   "metadata": {},
   "source": [
    "### Separando e juntando canais de cores da imagem  \n",
    "Os canais B, G e R da imagem podem ser separados quando necessário com a função *cv2.split()* ou com indexação do Numpy e juntados com *cv2.merge()* para formar a imagem BGR novamente ou RGB, se for plotada com matplotlib por exemplo.  \n",
    "Os canais de cores são o terceiro elemento do array em img[:,:,:]. Tem três valores possíveis:  \n",
    "__0 ->__ Azul  \n",
    "__1 ->__ Verde  \n",
    "__2 ->__ Vermelho"
   ]
  },
  {
   "cell_type": "code",
   "execution_count": null,
   "metadata": {},
   "outputs": [],
   "source": [
    "#cv2\n",
    "b,g,r = cv2.split(img)\n",
    "img_bgr = cv2.merge((b,g,r))\n",
    "img_rgb = cv2.merge((r,g,b))"
   ]
  },
  {
   "cell_type": "code",
   "execution_count": null,
   "metadata": {},
   "outputs": [],
   "source": [
    "#numpy -> mais rápido em tempo\n",
    "b = img[:,:,0]\n",
    "g = img[:,:,1]\n",
    "r = img[:,:,2]"
   ]
  },
  {
   "cell_type": "code",
   "execution_count": null,
   "metadata": {},
   "outputs": [],
   "source": [
    "#exemplo -> mudar todos os pixels vermelhos para zero\n",
    "img[:,:,2] = 0"
   ]
  },
  {
   "cell_type": "markdown",
   "metadata": {},
   "source": [
    "### Operações Bitwise\n",
    "Isso inclui operações AND, OR, NOT e XOR. Usado para extrair alguma parte da imagem, definir ou trabalhar com ROI não retangular etc. "
   ]
  },
  {
   "cell_type": "code",
   "execution_count": 37,
   "metadata": {},
   "outputs": [],
   "source": [
    "img1 = cv2.imread(r'C:\\Users\\Flavinho\\Desktop\\visao-computacional\\opencv testes\\messi5.jpg')\n",
    "img2 = cv2.imread(r'C:\\Users\\Flavinho\\Desktop\\visao-computacional\\opencv testes\\passaro_colorido.jpeg')\n",
    "\n",
    "#Para colocar a imagem no canto superior direito, criamos um ROI\n",
    "rows,cols,channels = img2.shape\n",
    "roi = img1[0:rows, 0:cols ]\n",
    "\n",
    "#Criamos uma máscara da imagem e uma máscara inversa também\n",
    "img2gray = cv2.cvtColor(img2,cv2.COLOR_BGR2GRAY)\n",
    "ret, mask = cv2.threshold(img2gray, 10, 255, cv2.THRESH_BINARY)\n",
    "mask_inv = cv2.bitwise_not(mask)\n",
    "\n",
    "#Área da imagem preta em ROI\n",
    "img1_bg = cv2.bitwise_and(roi,roi,mask = mask_inv)\n",
    "\n",
    "#Pegamos apenas a região da imagem\n",
    "img2_fg = cv2.bitwise_and(img2,img2,mask = mask)\n",
    "\n",
    "#Imagem em ROI e modificamos a imagem principal\n",
    "dst = cv2.add(img1_bg,img2_fg)\n",
    "img1[0:rows, 0:cols ] = dst\n",
    "\n",
    "cv2.imshow('res',img1)\n",
    "cv2.waitKey(0)\n",
    "cv2.destroyAllWindows()"
   ]
  }
 ],
 "metadata": {
  "kernelspec": {
   "display_name": "visao-computacional",
   "language": "python",
   "name": "python3"
  },
  "language_info": {
   "codemirror_mode": {
    "name": "ipython",
    "version": 3
   },
   "file_extension": ".py",
   "mimetype": "text/x-python",
   "name": "python",
   "nbconvert_exporter": "python",
   "pygments_lexer": "ipython3",
   "version": "3.10.14"
  }
 },
 "nbformat": 4,
 "nbformat_minor": 2
}
